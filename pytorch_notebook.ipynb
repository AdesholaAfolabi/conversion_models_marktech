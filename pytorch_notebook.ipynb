{
 "cells": [
  {
   "cell_type": "code",
   "execution_count": 157,
   "metadata": {},
   "outputs": [],
   "source": [
    "import numpy as np\n",
    "import yaml\n",
    "import pandas as pd\n",
    "import seaborn as sns\n",
    "import matplotlib.pyplot as plt\n",
    "\n",
    "import torch\n",
    "import torch.nn as nn\n",
    "import torch.nn.functional as F\n",
    "import torch.optim as optim\n",
    "from torch.utils.data import Dataset, DataLoader\n",
    "\n",
    "from sklearn.preprocessing import StandardScaler    \n",
    "from sklearn.model_selection import train_test_split\n",
    "from sklearn.metrics import confusion_matrix, classification_report"
   ]
  },
  {
   "cell_type": "code",
   "execution_count": 158,
   "metadata": {},
   "outputs": [
    {
     "name": "stdout",
     "output_type": "stream",
     "text": [
      "cuda:0\n"
     ]
    }
   ],
   "source": [
    "device = torch.device(\"cuda:0\" if torch.cuda.is_available() else \"cpu\")\n",
    "print(device)"
   ]
  },
  {
   "cell_type": "code",
   "execution_count": 159,
   "metadata": {},
   "outputs": [],
   "source": [
    "df = pd.read_csv(\"s3://datateam-ml/CVR_FSI/conversions.csv\")\n",
    "df2 = pd.read_csv(\"s3://datateam-ml/CVR_FSI/sms.csv\")\n",
    "df2 = df2[df2['event_type']=='sms']\n",
    "data = pd.concat([df, df2])\n",
    "features = yaml.safe_load(open(\"Attributes_yaml/features.yml\"))\n",
    "input_col = features['input_col']+features['target']\n",
    "data = data[input_col]\n",
    "data = data.reindex(columns = input_col)"
   ]
  },
  {
   "cell_type": "markdown",
   "metadata": {},
   "source": [
    "## PIPELINE BUILDING"
   ]
  },
  {
   "cell_type": "code",
   "execution_count": 160,
   "metadata": {},
   "outputs": [],
   "source": [
    "#important libraries\n",
    "import scipy as sci\n",
    "from sklearn.compose import ColumnTransformer\n",
    "from sklearn.pipeline import Pipeline\n",
    "from sklearn.preprocessing import OneHotEncoder\n",
    "from sklearn.preprocessing import MinMaxScaler\n",
    "from sklearn.impute import SimpleImputer\n",
    "from sklearn.feature_extraction import FeatureHasher\n",
    "from sklearn.model_selection import train_test_split"
   ]
  },
  {
   "cell_type": "code",
   "execution_count": 161,
   "metadata": {},
   "outputs": [],
   "source": [
    "class processing():\n",
    "    \n",
    "    features = yaml.safe_load(open(\"Attributes_yaml/features.yml\"))\n",
    "    input_col = features['input_col']\n",
    "    num = features['num_features']\n",
    "    cat = features['cat_features']\n",
    "    target = features['target']\n",
    "    low_cat = features['low_cat']\n",
    "    \n",
    "    def __init__(self, data):\n",
    "        self.data = data\n",
    "    def map_values(self,column = 'event_type'):\n",
    "        self.data['event_type'] = self.data['event_type'].apply(lambda x: 1 if x == 'install' else 0)\n",
    "        \n",
    "    def fill_na(self):\n",
    "        for item in self.data[processing.num]:\n",
    "            self.data[item] = self.data[item].fillna(self.data[item].mean())\n",
    "        for item in self.data[processing.cat]:\n",
    "            self.data[item] = self.data[item].fillna(self.data[item].value_counts().index[0])\n",
    "    def hash_list(self):\n",
    "        self.hash_features = []\n",
    "        for item in processing.cat:\n",
    "            if item not in processing.low_cat:\n",
    "                self.hash_features.append(item)\n",
    "    def pipeline(self, hash_size):\n",
    "        self.num_pipeline = Pipeline(steps= [('imputer', SimpleImputer(strategy='mean')), ('std_scaler', MinMaxScaler())])\n",
    "        self.cat_pipeline = Pipeline(steps=[('imputer', SimpleImputer(strategy='constant', fill_value='Missing')),\n",
    "                                       ('one_hot_encoding', OneHotEncoder(handle_unknown = \"ignore\", sparse = False))])\n",
    "        self.hash_pipeline = Pipeline([('imputer', SimpleImputer(strategy='constant', fill_value='Missing')),\n",
    "                                  ('hasher', FeatureHasher(n_features=hash_size, input_type='string'))])\n",
    "        \n",
    "    \n",
    "    def build_pipe(self, hash_size = 0, test_size = 0): \n",
    "        self.fill_na()\n",
    "        self.map_values()\n",
    "        self.data.drop(['msisdn'],axis=1,inplace=True)\n",
    "        self.hash_list()\n",
    "        self.pipeline(hash_size)\n",
    "        \n",
    "        self.full_pipeline = ColumnTransformer(\n",
    "        transformers=[\n",
    "            ('num', self.num_pipeline, processing.num),\n",
    "            ('cat', self.cat_pipeline, processing.low_cat),\n",
    "            ('hash', self.hash_pipeline, self.hash_features)\n",
    "        ])\n",
    "        \n",
    "        self.X = self.data.drop(processing.target, axis=1)\n",
    "        self.y = self.data[processing.target].copy()\n",
    "        \n",
    "        self.full_pipeline.fit(self.X)\n",
    "        \n",
    "        self.X_train, self.X_test, self.y_train, self.y_test = train_test_split(self.X, self.y, test_size=test_size, stratify = self.y)\n",
    "        \n",
    "        self.X_train = self.full_pipeline.transform(self.X_train)\n",
    "        self.X_test = self.full_pipeline.transform(self.X_test)\n",
    "        \n",
    "        print(self.X_train.shape)\n",
    "        return self.X, self.y, self.X_train, self.X_test, self.y_train, self.y_test, self.full_pipeline"
   ]
  },
  {
   "cell_type": "code",
   "execution_count": 162,
   "metadata": {},
   "outputs": [],
   "source": [
    "processed = processing(data)"
   ]
  },
  {
   "cell_type": "code",
   "execution_count": 163,
   "metadata": {},
   "outputs": [
    {
     "name": "stdout",
     "output_type": "stream",
     "text": [
      "(212245, 65)\n"
     ]
    }
   ],
   "source": [
    "X, y, X_train, X_test, y_train, y_test, full_pipeline = processed.build_pipe(hash_size = 48, test_size = 0.2)"
   ]
  },
  {
   "cell_type": "markdown",
   "metadata": {},
   "source": [
    "## BUILDING THE MODEL USING PYTORCH"
   ]
  },
  {
   "cell_type": "code",
   "execution_count": 164,
   "metadata": {},
   "outputs": [],
   "source": [
    "#CONVERT TRAIN AND TEST DATA TO TENSORS\n",
    "\n",
    "EPOCHS = 35\n",
    "BATCH_SIZE = 64\n",
    "LEARNING_RATE = 0.001\n",
    "\n",
    "class trainData(Dataset):\n",
    "    \n",
    "    def __init__(self, X_data, y_data):\n",
    "        self.X_data = X_data\n",
    "        self.y_data = y_data\n",
    "        \n",
    "    def __getitem__(self, index):\n",
    "        return self.X_data[index], self.y_data[index]\n",
    "        \n",
    "    def __len__ (self):\n",
    "        return len(self.X_data)\n",
    "\n",
    "\n",
    "train_data = trainData(torch.FloatTensor(X_train), \n",
    "                       torch.FloatTensor(y_train.values))\n",
    "## test data    \n",
    "class testData(Dataset):\n",
    "    \n",
    "    def __init__(self, X_data):\n",
    "        self.X_data = X_data\n",
    "        \n",
    "    def __getitem__(self, index):\n",
    "        return self.X_data[index]\n",
    "        \n",
    "    def __len__ (self):\n",
    "        return len(self.X_data)\n",
    "    \n",
    "\n",
    "test_data = testData(torch.FloatTensor(X_test))"
   ]
  },
  {
   "cell_type": "code",
   "execution_count": 165,
   "metadata": {},
   "outputs": [],
   "source": [
    "train_loader = DataLoader(dataset=train_data, batch_size=BATCH_SIZE, shuffle=True)\n",
    "test_loader = DataLoader(dataset=test_data, batch_size=1)"
   ]
  },
  {
   "cell_type": "code",
   "execution_count": 166,
   "metadata": {},
   "outputs": [],
   "source": [
    "class binaryClassification(nn.Module):\n",
    "    def __init__(self):\n",
    "        super(binaryClassification, self).__init__()\n",
    "        # Number of input features is 62.\n",
    "        self.layer_1 = nn.Linear(65, 128) \n",
    "        self.layer_2 = nn.Linear(128, 64)\n",
    "        self.layer_out = nn.Linear(64, 1) \n",
    "        \n",
    "        self.relu = nn.ReLU()\n",
    "        self.dropout = nn.Dropout(p=0.2)\n",
    "        self.batchnorm1 = nn.BatchNorm1d(128)\n",
    "        self.batchnorm2 = nn.BatchNorm1d(64)\n",
    "        \n",
    "    def forward(self, inputs):\n",
    "        x = self.relu(self.layer_1(inputs))\n",
    "        x = self.batchnorm1(x)\n",
    "        x = self.relu(self.layer_2(x))\n",
    "        x = self.batchnorm2(x)\n",
    "        x = self.dropout(x)\n",
    "        x = self.layer_out(x)\n",
    "        \n",
    "        return x"
   ]
  },
  {
   "cell_type": "code",
   "execution_count": 115,
   "metadata": {},
   "outputs": [
    {
     "name": "stdout",
     "output_type": "stream",
     "text": [
      "cuda:0\n"
     ]
    }
   ],
   "source": [
    "device = torch.device(\"cuda:0\" if torch.cuda.is_available() else \"cpu\")\n",
    "print(device)"
   ]
  },
  {
   "cell_type": "code",
   "execution_count": 167,
   "metadata": {},
   "outputs": [
    {
     "name": "stdout",
     "output_type": "stream",
     "text": [
      "binaryClassification(\n",
      "  (layer_1): Linear(in_features=65, out_features=128, bias=True)\n",
      "  (layer_2): Linear(in_features=128, out_features=64, bias=True)\n",
      "  (layer_out): Linear(in_features=64, out_features=1, bias=True)\n",
      "  (relu): ReLU()\n",
      "  (dropout): Dropout(p=0.2, inplace=False)\n",
      "  (batchnorm1): BatchNorm1d(128, eps=1e-05, momentum=0.1, affine=True, track_running_stats=True)\n",
      "  (batchnorm2): BatchNorm1d(64, eps=1e-05, momentum=0.1, affine=True, track_running_stats=True)\n",
      ")\n"
     ]
    }
   ],
   "source": [
    "model = binaryClassification()\n",
    "model.to(device)\n",
    "print(model)\n",
    "criterion = nn.BCEWithLogitsLoss()\n",
    "optimizer = optim.Adam(model.parameters(), lr=LEARNING_RATE)"
   ]
  },
  {
   "cell_type": "code",
   "execution_count": 168,
   "metadata": {},
   "outputs": [],
   "source": [
    "def binary_acc(y_pred, y_test):\n",
    "    y_pred_tag = torch.round(torch.sigmoid(y_pred))\n",
    "\n",
    "    correct_results_sum = (y_pred_tag == y_test).sum().float()\n",
    "    acc = correct_results_sum/y_test.shape[0]\n",
    "    acc = torch.round(acc * 100)\n",
    "    \n",
    "    return acc"
   ]
  },
  {
   "cell_type": "code",
   "execution_count": 169,
   "metadata": {},
   "outputs": [
    {
     "name": "stdout",
     "output_type": "stream",
     "text": [
      "Epoch 001: | Loss: 0.20715 | Acc: 93.393\n",
      "Epoch 002: | Loss: 0.18059 | Acc: 94.249\n",
      "Epoch 003: | Loss: 0.17802 | Acc: 94.246\n",
      "Epoch 004: | Loss: 0.17686 | Acc: 94.256\n",
      "Epoch 005: | Loss: 0.17587 | Acc: 94.259\n",
      "Epoch 006: | Loss: 0.17506 | Acc: 94.272\n",
      "Epoch 007: | Loss: 0.17456 | Acc: 94.257\n",
      "Epoch 008: | Loss: 0.17392 | Acc: 94.260\n",
      "Epoch 009: | Loss: 0.17305 | Acc: 94.276\n",
      "Epoch 010: | Loss: 0.17242 | Acc: 94.287\n",
      "Epoch 011: | Loss: 0.17174 | Acc: 94.277\n",
      "Epoch 012: | Loss: 0.17134 | Acc: 94.287\n",
      "Epoch 013: | Loss: 0.17087 | Acc: 94.292\n",
      "Epoch 014: | Loss: 0.17030 | Acc: 94.312\n",
      "Epoch 015: | Loss: 0.16983 | Acc: 94.322\n",
      "Epoch 016: | Loss: 0.16961 | Acc: 94.316\n",
      "Epoch 017: | Loss: 0.16947 | Acc: 94.323\n",
      "Epoch 018: | Loss: 0.16869 | Acc: 94.341\n",
      "Epoch 019: | Loss: 0.16867 | Acc: 94.323\n",
      "Epoch 020: | Loss: 0.16820 | Acc: 94.340\n",
      "Epoch 021: | Loss: 0.16778 | Acc: 94.352\n",
      "Epoch 022: | Loss: 0.16702 | Acc: 94.356\n",
      "Epoch 023: | Loss: 0.16707 | Acc: 94.361\n",
      "Epoch 024: | Loss: 0.16685 | Acc: 94.341\n",
      "Epoch 025: | Loss: 0.16679 | Acc: 94.338\n",
      "Epoch 026: | Loss: 0.16617 | Acc: 94.356\n",
      "Epoch 027: | Loss: 0.16583 | Acc: 94.346\n",
      "Epoch 028: | Loss: 0.16588 | Acc: 94.364\n",
      "Epoch 029: | Loss: 0.16554 | Acc: 94.381\n",
      "Epoch 030: | Loss: 0.16519 | Acc: 94.369\n",
      "Epoch 031: | Loss: 0.16481 | Acc: 94.395\n",
      "Epoch 032: | Loss: 0.16509 | Acc: 94.370\n",
      "Epoch 033: | Loss: 0.16482 | Acc: 94.402\n",
      "Epoch 034: | Loss: 0.16455 | Acc: 94.417\n",
      "Epoch 035: | Loss: 0.16441 | Acc: 94.409\n"
     ]
    }
   ],
   "source": [
    "model.train()\n",
    "for e in range(1, EPOCHS+1):\n",
    "    epoch_loss = 0\n",
    "    epoch_acc = 0\n",
    "    for X_batch, y_batch in train_loader:\n",
    "        X_batch, y_batch = X_batch.to(device), y_batch.to(device)\n",
    "        optimizer.zero_grad()\n",
    "        \n",
    "        y_pred = model(X_batch)\n",
    "        \n",
    "        loss = criterion(y_pred, y_batch)#.unsqueeze(1))\n",
    "        acc = binary_acc(y_pred, y_batch)#.unsqueeze(1))\n",
    "        \n",
    "        loss.backward()\n",
    "        optimizer.step()\n",
    "        \n",
    "        epoch_loss += loss.item()\n",
    "        epoch_acc += acc.item()\n",
    "        \n",
    "\n",
    "    print(f'Epoch {e+0:03}: | Loss: {epoch_loss/len(train_loader):.5f} | Acc: {epoch_acc/len(train_loader):.3f}')"
   ]
  },
  {
   "cell_type": "code",
   "execution_count": 170,
   "metadata": {},
   "outputs": [],
   "source": [
    "y_pred_list = []\n",
    "model.eval()\n",
    "with torch.no_grad():\n",
    "    for X_batch in test_loader:\n",
    "        X_batch = X_batch.to(device)\n",
    "        y_test_pred = model(X_batch)\n",
    "        y_test_pred = torch.sigmoid(y_test_pred)\n",
    "        y_pred_tag = torch.round(y_test_pred)\n",
    "        y_pred_list.append(y_pred_tag.cpu().numpy())\n",
    "\n",
    "y_pred_list = [a.squeeze().tolist() for a in y_pred_list]"
   ]
  },
  {
   "cell_type": "code",
   "execution_count": 171,
   "metadata": {},
   "outputs": [
    {
     "name": "stdout",
     "output_type": "stream",
     "text": [
      "              precision    recall  f1-score   support\n",
      "\n",
      "           0       0.94      1.00      0.97     50031\n",
      "           1       0.45      0.03      0.05      3031\n",
      "\n",
      "   micro avg       0.94      0.94      0.94     53062\n",
      "   macro avg       0.70      0.51      0.51     53062\n",
      "weighted avg       0.92      0.94      0.92     53062\n",
      "\n"
     ]
    }
   ],
   "source": [
    "confusion_matrix(y_test, y_pred_list)\n",
    "print(classification_report(y_test, y_pred_list))"
   ]
  },
  {
   "cell_type": "markdown",
   "metadata": {},
   "source": [
    "## SAVING AND LOADING MODEL"
   ]
  },
  {
   "cell_type": "code",
   "execution_count": 172,
   "metadata": {},
   "outputs": [
    {
     "name": "stdout",
     "output_type": "stream",
     "text": [
      "Our model: \n",
      "\n",
      " binaryClassification(\n",
      "  (layer_1): Linear(in_features=65, out_features=128, bias=True)\n",
      "  (layer_2): Linear(in_features=128, out_features=64, bias=True)\n",
      "  (layer_out): Linear(in_features=64, out_features=1, bias=True)\n",
      "  (relu): ReLU()\n",
      "  (dropout): Dropout(p=0.2, inplace=False)\n",
      "  (batchnorm1): BatchNorm1d(128, eps=1e-05, momentum=0.1, affine=True, track_running_stats=True)\n",
      "  (batchnorm2): BatchNorm1d(64, eps=1e-05, momentum=0.1, affine=True, track_running_stats=True)\n",
      ") \n",
      "\n",
      "The state dict keys: \n",
      "\n",
      " odict_keys(['layer_1.weight', 'layer_1.bias', 'layer_2.weight', 'layer_2.bias', 'layer_out.weight', 'layer_out.bias', 'batchnorm1.weight', 'batchnorm1.bias', 'batchnorm1.running_mean', 'batchnorm1.running_var', 'batchnorm1.num_batches_tracked', 'batchnorm2.weight', 'batchnorm2.bias', 'batchnorm2.running_mean', 'batchnorm2.running_var', 'batchnorm2.num_batches_tracked'])\n"
     ]
    }
   ],
   "source": [
    "print(\"Our model: \\n\\n\", model, '\\n')\n",
    "print(\"The state dict keys: \\n\\n\", model.state_dict().keys())"
   ]
  },
  {
   "cell_type": "code",
   "execution_count": 173,
   "metadata": {},
   "outputs": [],
   "source": [
    "torch.save(model.state_dict(), '/home/ec2-user/SageMaker/FSI_SMS_TO_CONVERSION/model_and_pipeline/checkpoint.pth')"
   ]
  },
  {
   "cell_type": "code",
   "execution_count": 174,
   "metadata": {},
   "outputs": [
    {
     "name": "stdout",
     "output_type": "stream",
     "text": [
      "odict_keys(['layer_1.weight', 'layer_1.bias', 'layer_2.weight', 'layer_2.bias', 'layer_out.weight', 'layer_out.bias', 'batchnorm1.weight', 'batchnorm1.bias', 'batchnorm1.running_mean', 'batchnorm1.running_var', 'batchnorm1.num_batches_tracked', 'batchnorm2.weight', 'batchnorm2.bias', 'batchnorm2.running_mean', 'batchnorm2.running_var', 'batchnorm2.num_batches_tracked'])\n"
     ]
    }
   ],
   "source": [
    "state_dict = torch.load('model_and_pipeline/checkpoint.pth')\n",
    "print(state_dict.keys())"
   ]
  },
  {
   "cell_type": "code",
   "execution_count": null,
   "metadata": {},
   "outputs": [],
   "source": [
    "model.load_state_dict(state_dict)"
   ]
  },
  {
   "cell_type": "markdown",
   "metadata": {},
   "source": [
    "## TO AVOID INPUT AND HIDDEN LAYER ISSUES"
   ]
  },
  {
   "cell_type": "code",
   "execution_count": 175,
   "metadata": {},
   "outputs": [
    {
     "ename": "AttributeError",
     "evalue": "'binaryClassification' object has no attribute 'hidden_layers'",
     "output_type": "error",
     "traceback": [
      "\u001b[0;31m---------------------------------------------------------------------------\u001b[0m",
      "\u001b[0;31mAttributeError\u001b[0m                            Traceback (most recent call last)",
      "\u001b[0;32m<ipython-input-175-5d043377992e>\u001b[0m in \u001b[0;36m<module>\u001b[0;34m()\u001b[0m\n\u001b[1;32m      1\u001b[0m checkpoint = {'input_size': 65,\n\u001b[1;32m      2\u001b[0m               \u001b[0;34m'output_size'\u001b[0m\u001b[0;34m:\u001b[0m \u001b[0;36m1\u001b[0m\u001b[0;34m,\u001b[0m\u001b[0;34m\u001b[0m\u001b[0m\n\u001b[0;32m----> 3\u001b[0;31m               \u001b[0;34m'hidden_layers'\u001b[0m\u001b[0;34m:\u001b[0m \u001b[0;34m[\u001b[0m\u001b[0meach\u001b[0m\u001b[0;34m.\u001b[0m\u001b[0mout_features\u001b[0m \u001b[0;32mfor\u001b[0m \u001b[0meach\u001b[0m \u001b[0;32min\u001b[0m \u001b[0mmodel\u001b[0m\u001b[0;34m.\u001b[0m\u001b[0mhidden_layers\u001b[0m\u001b[0;34m]\u001b[0m\u001b[0;34m,\u001b[0m\u001b[0;34m\u001b[0m\u001b[0m\n\u001b[0m\u001b[1;32m      4\u001b[0m               'state_dict': model.state_dict()}\n\u001b[1;32m      5\u001b[0m \u001b[0;34m\u001b[0m\u001b[0m\n",
      "\u001b[0;32m~/anaconda3/envs/pytorch_p36/lib/python3.6/site-packages/torch/nn/modules/module.py\u001b[0m in \u001b[0;36m__getattr__\u001b[0;34m(self, name)\u001b[0m\n\u001b[1;32m    574\u001b[0m                 \u001b[0;32mreturn\u001b[0m \u001b[0mmodules\u001b[0m\u001b[0;34m[\u001b[0m\u001b[0mname\u001b[0m\u001b[0;34m]\u001b[0m\u001b[0;34m\u001b[0m\u001b[0m\n\u001b[1;32m    575\u001b[0m         raise AttributeError(\"'{}' object has no attribute '{}'\".format(\n\u001b[0;32m--> 576\u001b[0;31m             type(self).__name__, name))\n\u001b[0m\u001b[1;32m    577\u001b[0m \u001b[0;34m\u001b[0m\u001b[0m\n\u001b[1;32m    578\u001b[0m     \u001b[0;32mdef\u001b[0m \u001b[0m__setattr__\u001b[0m\u001b[0;34m(\u001b[0m\u001b[0mself\u001b[0m\u001b[0;34m,\u001b[0m \u001b[0mname\u001b[0m\u001b[0;34m,\u001b[0m \u001b[0mvalue\u001b[0m\u001b[0;34m)\u001b[0m\u001b[0;34m:\u001b[0m\u001b[0;34m\u001b[0m\u001b[0m\n",
      "\u001b[0;31mAttributeError\u001b[0m: 'binaryClassification' object has no attribute 'hidden_layers'"
     ]
    }
   ],
   "source": [
    "checkpoint = {'input_size': 65,\n",
    "              'output_size': 1,\n",
    "              'hidden_layers': [each.out_features for each in model.hidden_layers],\n",
    "              'state_dict': model.state_dict()}\n",
    "\n",
    "torch.save(checkpoint, 'checkpoint.pth')"
   ]
  },
  {
   "cell_type": "code",
   "execution_count": null,
   "metadata": {},
   "outputs": [],
   "source": [
    "def load_checkpoint(filepath):\n",
    "    checkpoint = torch.load(filepath)\n",
    "    model = fc_model.Network(checkpoint['input_size'],\n",
    "                             checkpoint['output_size'],\n",
    "                             checkpoint['hidden_layers'])\n",
    "    model.load_state_dict(checkpoint['state_dict'])\n",
    "    \n",
    "    return model"
   ]
  },
  {
   "cell_type": "code",
   "execution_count": null,
   "metadata": {},
   "outputs": [],
   "source": [
    "model = load_checkpoint('checkpoint.pth')\n",
    "print(model)"
   ]
  },
  {
   "cell_type": "code",
   "execution_count": null,
   "metadata": {},
   "outputs": [],
   "source": []
  },
  {
   "cell_type": "code",
   "execution_count": null,
   "metadata": {},
   "outputs": [],
   "source": []
  }
 ],
 "metadata": {
  "kernelspec": {
   "display_name": "conda_pytorch_p36",
   "language": "python",
   "name": "conda_pytorch_p36"
  },
  "language_info": {
   "codemirror_mode": {
    "name": "ipython",
    "version": 3
   },
   "file_extension": ".py",
   "mimetype": "text/x-python",
   "name": "python",
   "nbconvert_exporter": "python",
   "pygments_lexer": "ipython3",
   "version": "3.6.5"
  }
 },
 "nbformat": 4,
 "nbformat_minor": 4
}
