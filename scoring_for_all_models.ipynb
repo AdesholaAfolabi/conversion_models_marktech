{
 "cells": [
  {
   "cell_type": "code",
   "execution_count": 1,
   "metadata": {},
   "outputs": [],
   "source": [
    "import pandas as pd\n",
    "import numpy as np\n",
    "from sklearn.compose import ColumnTransformer\n",
    "from sklearn.pipeline import Pipeline\n",
    "import s3fs, pandas as pd,os\n",
    "import pickle\n",
    "import yaml\n",
    "import os"
   ]
  },
  {
   "cell_type": "code",
   "execution_count": 35,
   "metadata": {},
   "outputs": [],
   "source": [
    "!rm -rf /home/ec2-user/SageMaker/FSI_SMS_TO_CONVERSION/predictions/"
   ]
  },
  {
   "cell_type": "code",
   "execution_count": 5,
   "metadata": {},
   "outputs": [],
   "source": [
    "fs = s3fs.S3FileSystem()\n",
    "flat_demography = []\n",
    "path = \"s3://data-lake-v2/processed_batch_data/clean/flat_demography/year=2020/month=03/\"\n",
    "for file in fs.ls(path):\n",
    "    flat_demography.append(file)"
   ]
  },
  {
   "cell_type": "code",
   "execution_count": null,
   "metadata": {},
   "outputs": [],
   "source": [
    "data = pd.read_parquet(\"s3://\"+self.path, engine = 'pyarrow', columns = self.input_col)\n",
    "data = data.reindex(columns = self.input_col)"
   ]
  },
  {
   "cell_type": "code",
   "execution_count": 9,
   "metadata": {},
   "outputs": [
    {
     "name": "stdout",
     "output_type": "stream",
     "text": [
      "data-lake-v2/processed_batch_data/clean/flat_demography/year=2020/month=03/part-00000-083d9589-8516-4f69-938b-080c6b1128cf-c000.snappy.parquet\n",
      "                             msisdn                                tap_id  \\\n",
      "0  a511b7332140982683bbce5d1723bfc8  65e9975a-a3f4-46b4-91fc-98a968e00e69   \n",
      "1  74a8e2ae0b0d8e8ad9fe2fd28583ba63  637841cb-9bec-452b-97d1-047e5342e447   \n",
      "2  49140903bb0cfed4b29424cdced7c16e  ae3136f3-ee6f-40f4-aa5b-061db1c0023f   \n",
      "3  744b982414f3616d4400a81e4b10bb0a  de2f924a-0244-4ce7-9ccd-92958e332b5c   \n",
      "4  9e7befe0be23437db41a3b653b27e76a  963254d5-e476-43ba-a112-bf6c632fd05d   \n",
      "\n",
      "  location_region location_state location_lga device_manufacturer  \\\n",
      "0            None           None         None                None   \n",
      "1            None           None         None                None   \n",
      "2      North West        katsina      katsina             samsung   \n",
      "3            None           None         None                None   \n",
      "4      North West        katsina      katsina               tecno   \n",
      "\n",
      "                  device_model       os_vendor         os_name  \\\n",
      "0                         None            None            None   \n",
      "1                         None            None            None   \n",
      "2  galaxy core prime (smg360h)          google         android   \n",
      "3                         None            None            None   \n",
      "4                         t351  proprietary os  proprietary os   \n",
      "\n",
      "       os_version  ...  inbound_monthly_count  outbound_daily_count  \\\n",
      "0            None  ...                    NaN                   NaN   \n",
      "1            None  ...                    NaN                   NaN   \n",
      "2           4.4.4  ...                    NaN                   NaN   \n",
      "3            None  ...                    NaN                   NaN   \n",
      "4  proprietary os  ...                    NaN                   NaN   \n",
      "\n",
      "   outbound_monthly_count  last_recharge_time  \\\n",
      "0                     NaN                None   \n",
      "1                     NaN                None   \n",
      "2                     NaN                None   \n",
      "3                     NaN                None   \n",
      "4                     NaN                None   \n",
      "\n",
      "                                           lookalike  \\\n",
      "0  {'BusinessFinance': '2.501377908731674e-06', '...   \n",
      "1                                               None   \n",
      "2  {'BusinessFinance': '1.9295217395638503e-05', ...   \n",
      "3                                               None   \n",
      "4  {'BusinessFinance': '4.179802678891658e-06', '...   \n",
      "\n",
      "                                   product_lookalike      loan_propensity  \\\n",
      "0  {'CustomerRegistrationSignup': '0.349736869948...  0.04037207354079138   \n",
      "1                                               None                 None   \n",
      "2  {'CustomerRegistrationSignup': '0.676618770169...  0.05436920913428311   \n",
      "3                                               None                 None   \n",
      "4  {'CustomerRegistrationSignup': '0.744295597319...  0.05411729637558052   \n",
      "\n",
      "   ctr_score  investment_score  ctr_score_2  \n",
      "0      0.048              None          NaN  \n",
      "1      0.241              None          NaN  \n",
      "2      0.965               0.0     0.616667  \n",
      "3      0.198               0.0          NaN  \n",
      "4      0.997               0.0     0.533333  \n",
      "\n",
      "[5 rows x 51 columns]\n"
     ]
    }
   ],
   "source": [
    "for item in flat_demography[:1]:\n",
    "    print (item)\n",
    "    data = pd.read_parquet(\"s3://\"+item, engine = 'pyarrow')\n",
    "    print (data.head())"
   ]
  },
  {
   "cell_type": "code",
   "execution_count": 36,
   "metadata": {},
   "outputs": [
    {
     "name": "stdout",
     "output_type": "stream",
     "text": [
      "vm.drop_caches = 3\n"
     ]
    }
   ],
   "source": [
    "!sudo sysctl -w vm.drop_caches=3"
   ]
  },
  {
   "cell_type": "code",
   "execution_count": 32,
   "metadata": {},
   "outputs": [],
   "source": [
    "#input_col = ['msisdn', 'spend_total', 'age', 'device_manufacturer', 'gender', 'customer_value', 'customer_class', 'location_state', 'device_type']\n",
    "features = yaml.safe_load(open(\"Attributes_yaml/features.yml\"))\n",
    "input_col = features['input_col']\n",
    "fs = s3fs.S3FileSystem()\n",
    "#path to the data\n",
    "path = \"s3://data-lake-v2/processed_batch_data/clean/flat_demography/year=2020/month=03/\"\n",
    "directory = os.getcwd()\n",
    "pred_path = os.path.join(directory,'predictions')\n",
    "\n",
    "def score(data_path):\n",
    "    counter = 0\n",
    "    for file in fs.ls(data_path):\n",
    "        print (file)\n",
    "        data = pd.read_parquet(\"s3://\"+file, engine='pyarrow', columns = input_col)\n",
    "        msisdn = data.msisdn\n",
    "        data = data.drop(['msisdn'], axis=1)\n",
    "        num_features = data.select_dtypes(include=[\"number\"]).columns\n",
    "        cat_features = data.select_dtypes(exclude=[\"number\"]).columns\n",
    "        for item in cat_features:\n",
    "            data[item] = data[item].fillna(data[item].value_counts().index[0])\n",
    "        for item in num_features:\n",
    "            data[item] = data[item].fillna(data[item].mean())\n",
    "        with open(\"/home/ec2-user/SageMaker/FSI_SMS_TO_CONVERSION/model_and_pipeline/cvr2_pipe.pkl\", 'rb') as file:\n",
    "            pipe = pickle.load(file)\n",
    "        pipe_data = pipe.transform(data)\n",
    "        \n",
    "        with open(\"/home/ec2-user/SageMaker/FSI_SMS_TO_CONVERSION/model_and_pipeline/model_log_reg.pkl\", 'rb') as file:\n",
    "            model = pickle.load(file)\n",
    "        predictions = np.round(model.predict_proba(pipe_data)[:,1],3)\n",
    "        out = 'out'+ str(counter) + '.csv'\n",
    "        pd.DataFrame({'msisdn':msisdn,'results':predictions}).to_csv(pred_path + '/' + out,index=False,\n",
    "                                                                     sep=',',header=['msisdn','score'])\n",
    "        counter +=1\n",
    "        print('Done. Check the predictions path')\n"
   ]
  },
  {
   "cell_type": "code",
   "execution_count": null,
   "metadata": {},
   "outputs": [],
   "source": [
    "score(path)"
   ]
  },
  {
   "cell_type": "code",
   "execution_count": null,
   "metadata": {},
   "outputs": [],
   "source": [
    "!aws s3 cp /home/ec2-user/SageMaker/FSI_SMS_TO_CONVERSION/predictions/. s3://datateam-ml/predictions/fsi_sms_cvr_pytorch/ --recursive"
   ]
  },
  {
   "cell_type": "code",
   "execution_count": null,
   "metadata": {},
   "outputs": [],
   "source": []
  }
 ],
 "metadata": {
  "kernelspec": {
   "display_name": "conda_python3",
   "language": "python",
   "name": "conda_python3"
  },
  "language_info": {
   "codemirror_mode": {
    "name": "ipython",
    "version": 3
   },
   "file_extension": ".py",
   "mimetype": "text/x-python",
   "name": "python",
   "nbconvert_exporter": "python",
   "pygments_lexer": "ipython3",
   "version": "3.6.5"
  }
 },
 "nbformat": 4,
 "nbformat_minor": 4
}
